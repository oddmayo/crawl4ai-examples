{
 "cells": [
  {
   "cell_type": "markdown",
   "id": "db9048d7",
   "metadata": {},
   "source": [
    "# Crawl4AI with local LLMs"
   ]
  },
  {
   "cell_type": "code",
   "execution_count": null,
   "id": "1522b7ea",
   "metadata": {},
   "outputs": [],
   "source": [
    "# Linux installation (run on terminal)\n",
    "# curl -fsSL https://ollama.com/install.sh | sh\n",
    "\n",
    "# Verify\n",
    "# ollama -v\n"
   ]
  },
  {
   "cell_type": "markdown",
   "id": "439fb3c2",
   "metadata": {},
   "source": []
  }
 ],
 "metadata": {
  "language_info": {
   "name": "python"
  }
 },
 "nbformat": 4,
 "nbformat_minor": 5
}
